{
  "nbformat": 4,
  "nbformat_minor": 0,
  "metadata": {
    "colab": {
      "name": "Malaria Detection.ipynb",
      "provenance": [],
      "collapsed_sections": [],
      "authorship_tag": "ABX9TyP+9VAm6khCWAqeJmv4aB/k",
      "include_colab_link": true
    },
    "kernelspec": {
      "name": "python3",
      "display_name": "Python 3"
    },
    "accelerator": "GPU"
  },
  "cells": [
    {
      "cell_type": "markdown",
      "metadata": {
        "id": "view-in-github",
        "colab_type": "text"
      },
      "source": [
        "<a href=\"https://colab.research.google.com/github/amit-raj-repo/CNN-Malaria-Detection-Using-Keras/blob/master/Malaria_Detection.ipynb\" target=\"_parent\"><img src=\"https://colab.research.google.com/assets/colab-badge.svg\" alt=\"Open In Colab\"/></a>"
      ]
    },
    {
      "cell_type": "code",
      "metadata": {
        "id": "lY3acpBaBiZo",
        "colab_type": "code",
        "colab": {}
      },
      "source": [
        "import tensorflow as tf\n",
        "import pandas as pd\n",
        "import numpy as np\n",
        "\n",
        "from sklearn.model_selection import train_test_split\n",
        "\n",
        "import os\n",
        "import zipfile\n",
        "import random \n",
        "from shutil import copyfile\n",
        "\n",
        "from tensorflow.keras.models import Sequential\n",
        "from tensorflow.keras.layers import Dense, Activation, Conv2D, MaxPool2D, Flatten, Dropout\n",
        "from tensorflow.keras.optimizers import Adam\n",
        "from tensorflow.keras.preprocessing import image\n",
        "from tensorflow.keras.preprocessing.image import ImageDataGenerator"
      ],
      "execution_count": 0,
      "outputs": []
    },
    {
      "cell_type": "code",
      "metadata": {
        "id": "idhk6I9qBwyE",
        "colab_type": "code",
        "colab": {}
      },
      "source": [
        "from google.colab import drive\n",
        "drive.mount('/content/gdrive')"
      ],
      "execution_count": 0,
      "outputs": []
    },
    {
      "cell_type": "code",
      "metadata": {
        "id": "LP6MOxB-Bx2U",
        "colab_type": "code",
        "colab": {}
      },
      "source": [
        "#Unzip the data\n",
        "local_zip = '/content/gdrive/My Drive/Malaria-Detection/cell_images.zip'\n",
        "zip_ref = zipfile.ZipFile(local_zip, 'r')\n",
        "zip_ref.extractall('/content/cell-images-for-detecting-malaria')\n",
        "zip_ref.close()"
      ],
      "execution_count": 0,
      "outputs": []
    },
    {
      "cell_type": "code",
      "metadata": {
        "id": "885PA5VMjgHS",
        "colab_type": "code",
        "colab": {}
      },
      "source": [
        "#Getting image lists for 2 different classes\n",
        "parapath = '/content/cell-images-for-detecting-malaria/cell_images/Parasitized/'\n",
        "uninpath = '/content/cell-images-for-detecting-malaria/cell_images/Uninfected/'\n",
        "parastized = os.listdir(parapath)\n",
        "uninfected = os.listdir(uninpath)"
      ],
      "execution_count": 0,
      "outputs": []
    },
    {
      "cell_type": "code",
      "metadata": {
        "id": "Oor5B3eStfWi",
        "colab_type": "code",
        "outputId": "f69f5419-6ea8-459f-9868-025f14e5f220",
        "colab": {
          "base_uri": "https://localhost:8080/",
          "height": 35
        }
      },
      "source": [
        "len(parastized)"
      ],
      "execution_count": 5,
      "outputs": [
        {
          "output_type": "execute_result",
          "data": {
            "text/plain": [
              "13780"
            ]
          },
          "metadata": {
            "tags": []
          },
          "execution_count": 5
        }
      ]
    },
    {
      "cell_type": "code",
      "metadata": {
        "id": "IT1kEnnni2Mc",
        "colab_type": "code",
        "outputId": "f97493e6-19aa-4a5d-ce48-ea74267e267d",
        "colab": {
          "base_uri": "https://localhost:8080/",
          "height": 52
        }
      },
      "source": [
        "data = []\n",
        "label = []\n",
        "\n",
        "\n",
        "for para in parastized:\n",
        "    try:\n",
        "      img =  image.load_img(parapath+para,target_size=(64,64))\n",
        "      x = image.img_to_array(img)\n",
        "      data.append(x)\n",
        "      label.append(1)\n",
        "    except:\n",
        "        print(\"Can't add \"+para+\" in the dataset\")\n",
        "        \n",
        "for unin in uninfected:\n",
        "    try:\n",
        "        img =  image.load_img(uninpath+unin,target_size=(64,64))\n",
        "        x = image.img_to_array(img)\n",
        "        data.append(x)\n",
        "        label.append(0)\n",
        "    except:\n",
        "        print(\"Can't add \"+unin+\" in the dataset\")"
      ],
      "execution_count": 6,
      "outputs": [
        {
          "output_type": "stream",
          "text": [
            "Can't add Thumbs.db in the dataset\n",
            "Can't add Thumbs.db in the dataset\n"
          ],
          "name": "stdout"
        }
      ]
    },
    {
      "cell_type": "code",
      "metadata": {
        "id": "b-l3DBtEj1sj",
        "colab_type": "code",
        "colab": {}
      },
      "source": [
        "#Changing the image data to array and divide by 255 to restrict the data range to 0-1\n",
        "data = np.array(data)/255\n",
        "label = np.array(label)"
      ],
      "execution_count": 0,
      "outputs": []
    },
    {
      "cell_type": "code",
      "metadata": {
        "id": "lT6Fxsaxj8qj",
        "colab_type": "code",
        "outputId": "66c05716-8b17-454f-b8e3-bf17d83afa25",
        "colab": {
          "base_uri": "https://localhost:8080/",
          "height": 35
        }
      },
      "source": [
        "print(data.shape)"
      ],
      "execution_count": 16,
      "outputs": [
        {
          "output_type": "stream",
          "text": [
            "(27558, 64, 64, 3)\n"
          ],
          "name": "stdout"
        }
      ]
    },
    {
      "cell_type": "code",
      "metadata": {
        "id": "8zqeHFbEah-d",
        "colab_type": "code",
        "colab": {}
      },
      "source": [
        "#==========================================================================#\n",
        "# Model Building\n",
        "#==========================================================================#"
      ],
      "execution_count": 0,
      "outputs": []
    },
    {
      "cell_type": "code",
      "metadata": {
        "id": "CX4LInq2aTCs",
        "colab_type": "code",
        "colab": {}
      },
      "source": [
        "#Loading the data\n",
        "imageData = np.load('/content/gdrive/My Drive/Malaria-Detection/malaria_image_data_64.npy')\n",
        "imageLabels = np.load('/content/gdrive/My Drive/Malaria-Detection/malaria_image_label_64.npy')"
      ],
      "execution_count": 0,
      "outputs": []
    },
    {
      "cell_type": "code",
      "metadata": {
        "id": "ip4gJOTgbf__",
        "colab_type": "code",
        "colab": {}
      },
      "source": [
        "#Creating Test and train Datasets\n",
        "\n",
        "X_train, X_test, y_train, y_test = train_test_split(imageData,\n",
        "                                                    imageLabels,\n",
        "                                                    test_size=0.10,\n",
        "                                                    random_state=42)"
      ],
      "execution_count": 0,
      "outputs": []
    },
    {
      "cell_type": "code",
      "metadata": {
        "id": "F36iuUPnb_yt",
        "colab_type": "code",
        "outputId": "c701d12c-91b5-45d6-8c1e-51217befb240",
        "colab": {
          "base_uri": "https://localhost:8080/",
          "height": 676
        }
      },
      "source": [
        "#User Defined Model\n",
        "\n",
        "cnnModel = Sequential()\n",
        "\n",
        "cnnModel.add(Conv2D(32, (3,3), (1,1), activation= 'relu', input_shape = (64,64,3)))\n",
        "cnnModel.add(Conv2D(32, (3,3), (1,1), activation= 'relu'))\n",
        "cnnModel.add(MaxPool2D(pool_size= (2,2)))\n",
        "\n",
        "\n",
        "cnnModel.add(Conv2D(64, (3,3), (1,1), activation= 'relu'))\n",
        "cnnModel.add(Dropout(0.1, seed=42))\n",
        "\n",
        "cnnModel.add(Conv2D(64, (3,3), (1,1), activation= 'relu'))\n",
        "cnnModel.add(MaxPool2D(pool_size= (2,2)))\n",
        "\n",
        "cnnModel.add(Conv2D(128, (3,3), (1,1), activation= 'relu'))\n",
        "cnnModel.add(Dropout(0.1, seed=42))\n",
        "\n",
        "cnnModel.add(Conv2D(128, (3,3), (1,1), activation= 'relu'))\n",
        "cnnModel.add(MaxPool2D(pool_size= (2,2)))\n",
        "\n",
        "cnnModel.add(Flatten())\n",
        "cnnModel.add(Dense(128, activation= 'relu'))\n",
        "cnnModel.add(Dropout(0.1, seed=42))\n",
        "\n",
        "cnnModel.add(Dense(1, activation= 'sigmoid'))\n",
        "\n",
        "cnnModel.summary()"
      ],
      "execution_count": 21,
      "outputs": [
        {
          "output_type": "stream",
          "text": [
            "Model: \"sequential_4\"\n",
            "_________________________________________________________________\n",
            "Layer (type)                 Output Shape              Param #   \n",
            "=================================================================\n",
            "conv2d_19 (Conv2D)           (None, 62, 62, 32)        896       \n",
            "_________________________________________________________________\n",
            "conv2d_20 (Conv2D)           (None, 60, 60, 32)        9248      \n",
            "_________________________________________________________________\n",
            "max_pooling2d_9 (MaxPooling2 (None, 30, 30, 32)        0         \n",
            "_________________________________________________________________\n",
            "conv2d_21 (Conv2D)           (None, 28, 28, 64)        18496     \n",
            "_________________________________________________________________\n",
            "dropout_4 (Dropout)          (None, 28, 28, 64)        0         \n",
            "_________________________________________________________________\n",
            "conv2d_22 (Conv2D)           (None, 26, 26, 64)        36928     \n",
            "_________________________________________________________________\n",
            "max_pooling2d_10 (MaxPooling (None, 13, 13, 64)        0         \n",
            "_________________________________________________________________\n",
            "conv2d_23 (Conv2D)           (None, 11, 11, 128)       73856     \n",
            "_________________________________________________________________\n",
            "dropout_5 (Dropout)          (None, 11, 11, 128)       0         \n",
            "_________________________________________________________________\n",
            "conv2d_24 (Conv2D)           (None, 9, 9, 128)         147584    \n",
            "_________________________________________________________________\n",
            "max_pooling2d_11 (MaxPooling (None, 4, 4, 128)         0         \n",
            "_________________________________________________________________\n",
            "flatten_3 (Flatten)          (None, 2048)              0         \n",
            "_________________________________________________________________\n",
            "dense_6 (Dense)              (None, 128)               262272    \n",
            "_________________________________________________________________\n",
            "dropout_6 (Dropout)          (None, 128)               0         \n",
            "_________________________________________________________________\n",
            "dense_7 (Dense)              (None, 1)                 129       \n",
            "=================================================================\n",
            "Total params: 549,409\n",
            "Trainable params: 549,409\n",
            "Non-trainable params: 0\n",
            "_________________________________________________________________\n"
          ],
          "name": "stdout"
        }
      ]
    },
    {
      "cell_type": "code",
      "metadata": {
        "id": "ftQJvQz6IaG7",
        "colab_type": "code",
        "colab": {}
      },
      "source": [
        "adam = Adam(learning_rate= 0.001, beta_1 = 0.9, beta_2 = 0.99)"
      ],
      "execution_count": 0,
      "outputs": []
    },
    {
      "cell_type": "code",
      "metadata": {
        "id": "fyMVTHfpI-vL",
        "colab_type": "code",
        "colab": {}
      },
      "source": [
        "cnnModel.compile(optimizer=adam, loss= 'binary_crossentropy', metrics= ['accuracy'])"
      ],
      "execution_count": 0,
      "outputs": []
    },
    {
      "cell_type": "code",
      "metadata": {
        "id": "HhdwtziuJbgB",
        "colab_type": "code",
        "outputId": "dd6a26b8-3b75-43ff-b41f-564e9d8e3e51",
        "colab": {
          "base_uri": "https://localhost:8080/",
          "height": 245
        }
      },
      "source": [
        "cnnModel.fit(X_train,y_train, validation_data=(X_test, y_test), batch_size= 300, epochs= 5, verbose= 1)"
      ],
      "execution_count": 24,
      "outputs": [
        {
          "output_type": "stream",
          "text": [
            "Epoch 1/5\n",
            "1000/1000 [==============================] - 23s 23ms/step - loss: 0.4020 - accuracy: 0.7840 - val_loss: 0.1537 - val_accuracy: 0.9557\n",
            "Epoch 2/5\n",
            "1000/1000 [==============================] - 23s 23ms/step - loss: 0.1622 - accuracy: 0.9504 - val_loss: 0.1361 - val_accuracy: 0.9601\n",
            "Epoch 3/5\n",
            "1000/1000 [==============================] - 23s 23ms/step - loss: 0.1462 - accuracy: 0.9546 - val_loss: 0.1361 - val_accuracy: 0.9590\n",
            "Epoch 4/5\n",
            "1000/1000 [==============================] - 23s 23ms/step - loss: 0.1415 - accuracy: 0.9547 - val_loss: 0.1363 - val_accuracy: 0.9586\n",
            "Epoch 5/5\n",
            " 965/1000 [===========================>..] - ETA: 0s - loss: 0.1363 - accuracy: 0.9566WARNING:tensorflow:Your input ran out of data; interrupting training. Make sure that your dataset or generator can generate at least `steps_per_epoch * epochs` batches (in this case, 5000 batches). You may need to use the repeat() function when building your dataset.\n",
            " 965/1000 [===========================>..] - 22s 23ms/step - loss: 0.1363 - accuracy: 0.9566 - val_loss: 0.1233 - val_accuracy: 0.9597\n"
          ],
          "name": "stdout"
        },
        {
          "output_type": "execute_result",
          "data": {
            "text/plain": [
              "<tensorflow.python.keras.callbacks.History at 0x7fea28954198>"
            ]
          },
          "metadata": {
            "tags": []
          },
          "execution_count": 24
        }
      ]
    }
  ]
}